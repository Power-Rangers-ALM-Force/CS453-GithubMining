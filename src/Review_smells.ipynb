{
  "nbformat": 4,
  "nbformat_minor": 0,
  "metadata": {
    "colab": {
      "name": "Gorkem_Yusuf_smell.ipynb",
      "provenance": [],
      "collapsed_sections": []
    },
    "kernelspec": {
      "name": "python3",
      "display_name": "Python 3"
    }
  },
  "cells": [
    {
      "cell_type": "code",
      "metadata": {
        "id": "KSFMvp9JVXdR",
        "colab_type": "code",
        "outputId": "59ccbd74-379a-4b52-dec1-8b9a285f9872",
        "colab": {
          "base_uri": "https://localhost:8080/",
          "height": 272
        }
      },
      "source": [
        "!pip install PyGithub"
      ],
      "execution_count": 0,
      "outputs": [
        {
          "output_type": "stream",
          "text": [
            "Collecting PyGithub\n",
            "\u001b[?25l  Downloading https://files.pythonhosted.org/packages/e9/47/193780145caa381e9900991c03764506bdd472a64b0a60df1562dd9ac308/PyGithub-1.51-py3-none-any.whl (260kB)\n",
            "\r\u001b[K     |█▎                              | 10kB 25.8MB/s eta 0:00:01\r\u001b[K     |██▌                             | 20kB 3.2MB/s eta 0:00:01\r\u001b[K     |███▊                            | 30kB 4.3MB/s eta 0:00:01\r\u001b[K     |█████                           | 40kB 4.5MB/s eta 0:00:01\r\u001b[K     |██████▎                         | 51kB 3.7MB/s eta 0:00:01\r\u001b[K     |███████▌                        | 61kB 4.2MB/s eta 0:00:01\r\u001b[K     |████████▉                       | 71kB 4.5MB/s eta 0:00:01\r\u001b[K     |██████████                      | 81kB 4.9MB/s eta 0:00:01\r\u001b[K     |███████████▎                    | 92kB 5.3MB/s eta 0:00:01\r\u001b[K     |████████████▋                   | 102kB 5.0MB/s eta 0:00:01\r\u001b[K     |█████████████▉                  | 112kB 5.0MB/s eta 0:00:01\r\u001b[K     |███████████████                 | 122kB 5.0MB/s eta 0:00:01\r\u001b[K     |████████████████▍               | 133kB 5.0MB/s eta 0:00:01\r\u001b[K     |█████████████████▋              | 143kB 5.0MB/s eta 0:00:01\r\u001b[K     |██████████████████▉             | 153kB 5.0MB/s eta 0:00:01\r\u001b[K     |████████████████████▏           | 163kB 5.0MB/s eta 0:00:01\r\u001b[K     |█████████████████████▍          | 174kB 5.0MB/s eta 0:00:01\r\u001b[K     |██████████████████████▋         | 184kB 5.0MB/s eta 0:00:01\r\u001b[K     |████████████████████████        | 194kB 5.0MB/s eta 0:00:01\r\u001b[K     |█████████████████████████▏      | 204kB 5.0MB/s eta 0:00:01\r\u001b[K     |██████████████████████████▍     | 215kB 5.0MB/s eta 0:00:01\r\u001b[K     |███████████████████████████▊    | 225kB 5.0MB/s eta 0:00:01\r\u001b[K     |█████████████████████████████   | 235kB 5.0MB/s eta 0:00:01\r\u001b[K     |██████████████████████████████▏ | 245kB 5.0MB/s eta 0:00:01\r\u001b[K     |███████████████████████████████▌| 256kB 5.0MB/s eta 0:00:01\r\u001b[K     |████████████████████████████████| 266kB 5.0MB/s \n",
            "\u001b[?25hCollecting pyjwt\n",
            "  Downloading https://files.pythonhosted.org/packages/87/8b/6a9f14b5f781697e51259d81657e6048fd31a113229cf346880bb7545565/PyJWT-1.7.1-py2.py3-none-any.whl\n",
            "Requirement already satisfied: requests>=2.14.0 in /usr/local/lib/python3.6/dist-packages (from PyGithub) (2.23.0)\n",
            "Collecting deprecated\n",
            "  Downloading https://files.pythonhosted.org/packages/2b/ae/1f02f68eaa4aa878f184b2adc20a1923becb80a4da6c76efa33450011902/Deprecated-1.2.9-py2.py3-none-any.whl\n",
            "Requirement already satisfied: chardet<4,>=3.0.2 in /usr/local/lib/python3.6/dist-packages (from requests>=2.14.0->PyGithub) (3.0.4)\n",
            "Requirement already satisfied: urllib3!=1.25.0,!=1.25.1,<1.26,>=1.21.1 in /usr/local/lib/python3.6/dist-packages (from requests>=2.14.0->PyGithub) (1.24.3)\n",
            "Requirement already satisfied: idna<3,>=2.5 in /usr/local/lib/python3.6/dist-packages (from requests>=2.14.0->PyGithub) (2.9)\n",
            "Requirement already satisfied: certifi>=2017.4.17 in /usr/local/lib/python3.6/dist-packages (from requests>=2.14.0->PyGithub) (2020.4.5.1)\n",
            "Requirement already satisfied: wrapt<2,>=1.10 in /usr/local/lib/python3.6/dist-packages (from deprecated->PyGithub) (1.12.1)\n",
            "Installing collected packages: pyjwt, deprecated, PyGithub\n",
            "Successfully installed PyGithub-1.51 deprecated-1.2.9 pyjwt-1.7.1\n"
          ],
          "name": "stdout"
        }
      ]
    },
    {
      "cell_type": "code",
      "metadata": {
        "id": "KwuabVQ3WCnl",
        "colab_type": "code",
        "colab": {}
      },
      "source": [
        "import pandas as pd\n",
        "import numpy as np\n",
        "from github import Github"
      ],
      "execution_count": 0,
      "outputs": []
    },
    {
      "cell_type": "code",
      "metadata": {
        "id": "2uZ8FEO8WfpH",
        "colab_type": "code",
        "outputId": "1f2df597-fb40-43b8-9de2-96189594ca40",
        "colab": {
          "base_uri": "https://localhost:8080/",
          "height": 34
        }
      },
      "source": [
        "yd_token = '0795d9d90b0a792c9d39e11510837511d8a9ecdb'\n",
        "github_yd = Github(yd_token)\n",
        "repo = github_yd.get_repo('twbs/bootstrap')\n",
        "pull_requests = repo.get_pulls(state = 'closed')\n",
        "\n",
        "print(pull_requests.totalCount)"
      ],
      "execution_count": 0,
      "outputs": [
        {
          "output_type": "stream",
          "text": [
            "10825\n"
          ],
          "name": "stdout"
        }
      ]
    },
    {
      "cell_type": "code",
      "metadata": {
        "id": "iHpOLEs7eSaX",
        "colab_type": "code",
        "outputId": "119b3269-1efa-473f-8e3f-419c6b3a12d8",
        "colab": {
          "base_uri": "https://localhost:8080/",
          "height": 34
        }
      },
      "source": [
        "merged_requests = []\n",
        "for req_idx in range(1000):\n",
        "    if pull_requests[req_idx].merged:\n",
        "        merged_requests.append(pull_requests[req_idx])\n",
        "print(len(merged_requests))"
      ],
      "execution_count": 0,
      "outputs": [
        {
          "output_type": "stream",
          "text": [
            "776\n"
          ],
          "name": "stdout"
        }
      ]
    },
    {
      "cell_type": "code",
      "metadata": {
        "id": "JpfPaNe2kSey",
        "colab_type": "code",
        "colab": {}
      },
      "source": [
        "reviews = []\n",
        "for merged_request in merged_requests:\n",
        "  reviews.append(merged_request.get_reviews())"
      ],
      "execution_count": 0,
      "outputs": []
    },
    {
      "cell_type": "code",
      "metadata": {
        "id": "QwatYcpyfUZO",
        "colab_type": "code",
        "outputId": "a4fd65b1-d643-421b-b1b0-70bd99cbd3ae",
        "colab": {
          "base_uri": "https://localhost:8080/",
          "height": 34
        }
      },
      "source": [
        "smell_count = 0\n",
        "for review in reviews:\n",
        "  for single_review in review:\n",
        "    if single_review.state != \"APPROVE\":\n",
        "      smell_count += 1\n",
        "      break\n",
        "print(smell_count)"
      ],
      "execution_count": 0,
      "outputs": [
        {
          "output_type": "stream",
          "text": [
            "770\n"
          ],
          "name": "stdout"
        }
      ]
    },
    {
      "cell_type": "code",
      "metadata": {
        "id": "kE15CEjAm_1C",
        "colab_type": "code",
        "outputId": "9792096b-bd18-4767-cebd-5bddb09eef70",
        "colab": {
          "base_uri": "https://localhost:8080/",
          "height": 609
        }
      },
      "source": [
        "import matplotlib.pyplot as plt\n",
        "smell_percentage = 100 * (smell_count / len(merged_requests))\n",
        "data = [smell_percentage, 100 - smell_percentage]\n",
        "label = ['Smell', 'Proper']\n",
        "fig, (ax1, ax2) = plt.subplots(1, 2, figsize = (10,10))\n",
        "ax1.pie(data, labels = label, autopct = '%1.2f%%')\n",
        "ax1.legend()\n",
        "ax2.bar(label, [smell_count, len(merged_requests) - smell_count])"
      ],
      "execution_count": 0,
      "outputs": [
        {
          "output_type": "execute_result",
          "data": {
            "text/plain": [
              "<BarContainer object of 2 artists>"
            ]
          },
          "metadata": {
            "tags": []
          },
          "execution_count": 21
        },
        {
          "output_type": "display_data",
          "data": {
            "image/png": "[encoded data removed]",
            "text/plain": [
              "<Figure size 720x720 with 2 Axes>"
            ]
          },
          "metadata": {
            "tags": [],
            "needs_background": "light"
          }
        }
      ]
    }
  ]
}