{
 "cells": [
  {
   "cell_type": "code",
   "execution_count": 1,
   "metadata": {},
   "outputs": [
    {
     "name": "stdout",
     "output_type": "stream",
     "text": [
      "labeled\n",
      "labeled\n",
      "review_requested\n",
      "review_requested\n",
      "review_requested\n",
      "added_to_project\n",
      "head_ref_force_pushed\n"
     ]
    }
   ],
   "source": [
    "from github import Github\n",
    "import pandas as pd\n",
    "import numpy as np"
   ]
  },
  {
   "cell_type": "code",
   "execution_count": 16,
   "metadata": {},
   "outputs": [],
   "source": [
    "gthub = Github('f9930aaececfa943f340a4477a5b2eebd3955b81')\n",
    "repo = gthub.get_repo('twbs/bootstrap')\n",
    "issues = repo.get_issues(state = 'open')"
   ]
  },
  {
   "cell_type": "code",
   "execution_count": 17,
   "metadata": {},
   "outputs": [
    {
     "data": {
      "text/plain": [
       "395"
      ]
     },
     "execution_count": 17,
     "metadata": {},
     "output_type": "execute_result"
    }
   ],
   "source": [
    "issues.totalCount"
   ]
  },
  {
   "cell_type": "markdown",
   "metadata": {},
   "source": [
    "# Analysis\n",
    "For this part, the quantitative analysis for the missing fields will be conducted. In this regard, all of the attributes of a commit will be analyzed. The attributes that will be analyzed are as follows:\n",
    "- Assignee\n",
    "- Labels\n",
    "- Projects\n",
    "- Milestone \n",
    "- Linked Pull Requests\n",
    "- Comments\n",
    "---\n",
    "In order to shrink the dataset for an easier analysis firstly the issues which are problematic will be found. In order to find the problematic issues, the events generated for the attributes will be used."
   ]
  },
  {
   "cell_type": "code",
   "execution_count": 18,
   "metadata": {},
   "outputs": [],
   "source": [
    "events = ('added_to_project', 'assigned', 'labeled', 'milestoned', 'review_requested') "
   ]
  },
  {
   "cell_type": "code",
   "execution_count": 21,
   "metadata": {},
   "outputs": [
    {
     "name": "stdout",
     "output_type": "stream",
     "text": [
      "395\n",
      "Number of issues with at least one missing field: 395\n"
     ]
    }
   ],
   "source": [
    "problematic_issues = []\n",
    "problems = np.zeros(6)\n",
    "count = 0\n",
    "for issue in issues:\n",
    "    count += 1\n",
    "    issue_events = issue.get_events()\n",
    "    smell = [True, True, True, True, True, True]\n",
    "    for event in issue_events:\n",
    "        for label_idx in range(len(events)):\n",
    "            if event.event == events[label_idx]:\n",
    "                smell[label_idx] = False\n",
    "    if issue.body != None:\n",
    "        smell[5] = False\n",
    "    for x in smell:\n",
    "        if x == True:\n",
    "            problematic_issues.append(issue)\n",
    "            break\n",
    "    for x_idx in range(len(smell)):\n",
    "        if smell[x_idx] == True:\n",
    "            problems[x_idx] += 1\n",
    "            \n",
    "print(count)\n",
    "print('Number of issues with at least one missing field: ' + str(len(problematic_issues)))"
   ]
  },
  {
   "cell_type": "code",
   "execution_count": 26,
   "metadata": {},
   "outputs": [
    {
     "name": "stdout",
     "output_type": "stream",
     "text": [
      "Open issues: 395, Issues with some problem: 395\n"
     ]
    },
    {
     "data": {
      "text/plain": [
       "<matplotlib.legend.Legend at 0x1209eb9d0>"
      ]
     },
     "execution_count": 26,
     "metadata": {},
     "output_type": "execute_result"
    },
    {
     "data": {
      "image/png": "[encoded data removed]",
      "text/plain": [
       "<Figure size 432x288 with 1 Axes>"
      ]
     },
     "metadata": {},
     "output_type": "display_data"
    }
   ],
   "source": [
    "import matplotlib.pyplot as plt\n",
    "lb1 = ['Ideal', 'Not ideal']\n",
    "print('Open issues: ' + str(count) + ', Issues with some problem: ' + str(len(problematic_issues)))\n",
    "fig, ax = plt.subplots()\n",
    "ax.pie((count - len(problematic_issues) , len(problematic_issues)), labels = lb1)\n",
    "ax.legend()"
   ]
  },
  {
   "cell_type": "code",
   "execution_count": 40,
   "metadata": {},
   "outputs": [
    {
     "data": {
      "image/png": "[encoded data removed]",
      "text/plain": [
       "<Figure size 1080x432 with 1 Axes>"
      ]
     },
     "metadata": {
      "needs_background": "light"
     },
     "output_type": "display_data"
    }
   ],
   "source": [
    "labels = ['No assigneee', 'No label', 'No Project', 'No Milestone', 'No Reviewer', 'No Body']\n",
    "fig,ax = plt.subplots(figsize = (15,6))\n",
    "ax.bar(labels, problems)\n",
    "for x_idx in range(problems.size):\n",
    "    ax.text(labels[x_idx], problems[x_idx], int(problems[x_idx]), fontdict = {'family': 'sans-serif',\n",
    "        'color':  'blue',\n",
    "        'weight': 'heavy',\n",
    "        'size': 12,\n",
    "        }, ha = 'center')"
   ]
  }
 ],
 "metadata": {
  "kernelspec": {
   "display_name": "Python 3",
   "language": "python",
   "name": "python3"
  },
  "language_info": {
   "codemirror_mode": {
    "name": "ipython",
    "version": 3
   },
   "file_extension": ".py",
   "mimetype": "text/x-python",
   "name": "python",
   "nbconvert_exporter": "python",
   "pygments_lexer": "ipython3",
   "version": "3.7.6"
  }
 },
 "nbformat": 4,
 "nbformat_minor": 4
}
