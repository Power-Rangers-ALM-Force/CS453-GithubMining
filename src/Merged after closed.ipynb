{
  "nbformat": 4,
  "nbformat_minor": 0,
  "metadata": {
    "colab": {
      "name": "Closed after merged.ipynb",
      "provenance": []
    },
    "kernelspec": {
      "name": "python3",
      "display_name": "Python 3"
    }
  },
  "cells": [
    {
      "cell_type": "code",
      "metadata": {
        "id": "ks7HCGB6q0aS",
        "colab_type": "code",
        "outputId": "21f96ea6-c490-447b-dfce-a6f0d2d39296",
        "colab": {
          "base_uri": "https://localhost:8080/",
          "height": 272
        }
      },
      "source": [
        "!pip install PyGithub"
      ],
      "execution_count": 1,
      "outputs": [
        {
          "output_type": "stream",
          "text": [
            "Collecting PyGithub\n",
            "\u001b[?25l  Downloading https://files.pythonhosted.org/packages/e9/47/193780145caa381e9900991c03764506bdd472a64b0a60df1562dd9ac308/PyGithub-1.51-py3-none-any.whl (260kB)\n",
            "\r\u001b[K     |█▎                              | 10kB 13.4MB/s eta 0:00:01\r\u001b[K     |██▌                             | 20kB 1.7MB/s eta 0:00:01\r\u001b[K     |███▊                            | 30kB 2.3MB/s eta 0:00:01\r\u001b[K     |█████                           | 40kB 2.6MB/s eta 0:00:01\r\u001b[K     |██████▎                         | 51kB 2.0MB/s eta 0:00:01\r\u001b[K     |███████▌                        | 61kB 2.3MB/s eta 0:00:01\r\u001b[K     |████████▉                       | 71kB 2.5MB/s eta 0:00:01\r\u001b[K     |██████████                      | 81kB 2.7MB/s eta 0:00:01\r\u001b[K     |███████████▎                    | 92kB 2.9MB/s eta 0:00:01\r\u001b[K     |████████████▋                   | 102kB 2.8MB/s eta 0:00:01\r\u001b[K     |█████████████▉                  | 112kB 2.8MB/s eta 0:00:01\r\u001b[K     |███████████████                 | 122kB 2.8MB/s eta 0:00:01\r\u001b[K     |████████████████▍               | 133kB 2.8MB/s eta 0:00:01\r\u001b[K     |█████████████████▋              | 143kB 2.8MB/s eta 0:00:01\r\u001b[K     |██████████████████▉             | 153kB 2.8MB/s eta 0:00:01\r\u001b[K     |████████████████████▏           | 163kB 2.8MB/s eta 0:00:01\r\u001b[K     |█████████████████████▍          | 174kB 2.8MB/s eta 0:00:01\r\u001b[K     |██████████████████████▋         | 184kB 2.8MB/s eta 0:00:01\r\u001b[K     |████████████████████████        | 194kB 2.8MB/s eta 0:00:01\r\u001b[K     |█████████████████████████▏      | 204kB 2.8MB/s eta 0:00:01\r\u001b[K     |██████████████████████████▍     | 215kB 2.8MB/s eta 0:00:01\r\u001b[K     |███████████████████████████▊    | 225kB 2.8MB/s eta 0:00:01\r\u001b[K     |█████████████████████████████   | 235kB 2.8MB/s eta 0:00:01\r\u001b[K     |██████████████████████████████▏ | 245kB 2.8MB/s eta 0:00:01\r\u001b[K     |███████████████████████████████▌| 256kB 2.8MB/s eta 0:00:01\r\u001b[K     |████████████████████████████████| 266kB 2.8MB/s \n",
            "\u001b[?25hCollecting deprecated\n",
            "  Downloading https://files.pythonhosted.org/packages/2b/ae/1f02f68eaa4aa878f184b2adc20a1923becb80a4da6c76efa33450011902/Deprecated-1.2.9-py2.py3-none-any.whl\n",
            "Collecting pyjwt\n",
            "  Downloading https://files.pythonhosted.org/packages/87/8b/6a9f14b5f781697e51259d81657e6048fd31a113229cf346880bb7545565/PyJWT-1.7.1-py2.py3-none-any.whl\n",
            "Requirement already satisfied: requests>=2.14.0 in /usr/local/lib/python3.6/dist-packages (from PyGithub) (2.23.0)\n",
            "Requirement already satisfied: wrapt<2,>=1.10 in /usr/local/lib/python3.6/dist-packages (from deprecated->PyGithub) (1.12.1)\n",
            "Requirement already satisfied: idna<3,>=2.5 in /usr/local/lib/python3.6/dist-packages (from requests>=2.14.0->PyGithub) (2.9)\n",
            "Requirement already satisfied: urllib3!=1.25.0,!=1.25.1,<1.26,>=1.21.1 in /usr/local/lib/python3.6/dist-packages (from requests>=2.14.0->PyGithub) (1.24.3)\n",
            "Requirement already satisfied: certifi>=2017.4.17 in /usr/local/lib/python3.6/dist-packages (from requests>=2.14.0->PyGithub) (2020.4.5.1)\n",
            "Requirement already satisfied: chardet<4,>=3.0.2 in /usr/local/lib/python3.6/dist-packages (from requests>=2.14.0->PyGithub) (3.0.4)\n",
            "Installing collected packages: deprecated, pyjwt, PyGithub\n",
            "Successfully installed PyGithub-1.51 deprecated-1.2.9 pyjwt-1.7.1\n"
          ],
          "name": "stdout"
        }
      ]
    },
    {
      "cell_type": "code",
      "metadata": {
        "id": "ZxYr_ehNq9NP",
        "colab_type": "code",
        "colab": {}
      },
      "source": [
        "import pandas as pd\n",
        "import numpy as np\n",
        "from github import Github"
      ],
      "execution_count": 0,
      "outputs": []
    },
    {
      "cell_type": "code",
      "metadata": {
        "id": "Vyr5TbaVq-mz",
        "colab_type": "code",
        "colab": {}
      },
      "source": [
        "yd_token = 'INSERT_TOKEN'\n",
        "github_yd = Github(yd_token)\n",
        "repo = github_yd.get_repo('twbs/bootstrap')\n",
        "pull_requests = repo.get_issues(state = 'closed')"
      ],
      "execution_count": 0,
      "outputs": []
    },
    {
      "cell_type": "code",
      "metadata": {
        "id": "xMXEy0rRrS3A",
        "colab_type": "code",
        "colab": {}
      },
      "source": [
        "events_list = []\n",
        "for req_idx in range(pull_requests.totalCount):\n",
        "  events_list.append(pull_requests[req_idx].get_events())\n"
      ],
      "execution_count": 0,
      "outputs": []
    },
    {
      "cell_type": "code",
      "metadata": {
        "id": "P67VssFYwMiH",
        "colab_type": "code",
        "colab": {
          "base_uri": "https://localhost:8080/",
          "height": 34
        },
        "outputId": "fefe990b-ee3b-447e-f145-943aeccde729"
      },
      "source": [
        "print(len(events_list))"
      ],
      "execution_count": 6,
      "outputs": [
        {
          "output_type": "stream",
          "text": [
            "29757\n"
          ],
          "name": "stdout"
        }
      ]
    },
    {
      "cell_type": "code",
      "metadata": {
        "id": "KDC9OSECvbwI",
        "colab_type": "code",
        "outputId": "bcc2d4ba-37b0-4b9c-a27d-41e9388fb987",
        "colab": {
          "base_uri": "https://localhost:8080/",
          "height": 34
        }
      },
      "source": [
        "import time\n",
        "smell_count = 0\n",
        "for events in events_list:\n",
        "  closed = False\n",
        "  try:\n",
        "    for event in events:\n",
        "      if event.event == \"closed\":\n",
        "        closed = True\n",
        "      elif event.event == \"reopened\":\n",
        "        closed = False\n",
        "      elif closed and event.event == \"merged\":\n",
        "        smell_count += 1\n",
        "        break\n",
        "  except Exception:\n",
        "    time.sleep(3600)\n",
        "    for event in events:\n",
        "      if event.event == \"closed\":\n",
        "        closed = True\n",
        "      elif event.event == \"reopened\":\n",
        "        closed = False\n",
        "      elif closed and event.event == \"merged\":\n",
        "        smell_count += 1\n",
        "        break\n",
        "    continue\n",
        "\n",
        "print(smell_count)"
      ],
      "execution_count": 10,
      "outputs": [
        {
          "output_type": "stream",
          "text": [
            "14\n"
          ],
          "name": "stdout"
        }
      ]
    },
    {
      "cell_type": "code",
      "metadata": {
        "id": "E1rw8QRP-cdy",
        "colab_type": "code",
        "outputId": "63eb21d5-54e3-4cab-f01b-fc38a4c3ff23",
        "colab": {
          "base_uri": "https://localhost:8080/",
          "height": 609
        }
      },
      "source": [
        "import matplotlib.pyplot as plt\n",
        "smell_percentage = 100 * (smell_count / len(events_list))\n",
        "data = [smell_percentage, 100 - smell_percentage]\n",
        "label = ['Smell', 'Proper']\n",
        "fig, (ax1, ax2) = plt.subplots(1, 2, figsize = (10,10))\n",
        "ax1.pie(data, labels = label, autopct = '%1.2f%%')\n",
        "ax1.legend()\n",
        "ax2.bar(label, [smell_count, len(events_list) - smell_count])"
      ],
      "execution_count": 4,
      "outputs": [
        {
          "output_type": "execute_result",
          "data": {
            "text/plain": [
              "<BarContainer object of 2 artists>"
            ]
          },
          "metadata": {
            "tags": []
          },
          "execution_count": 4
        },
        {
          "output_type": "display_data",
          "data": {
            "image/png": "[encoded data removed]",
            "text/plain": [
              "<Figure size 720x720 with 2 Axes>"
            ]
          },
          "metadata": {
            "tags": [],
            "needs_background": "light"
          }
        }
      ]
    }
  ]
}
