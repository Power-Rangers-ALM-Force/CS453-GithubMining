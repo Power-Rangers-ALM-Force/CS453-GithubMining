{
  "nbformat": 4,
  "nbformat_minor": 0,
  "metadata": {
    "colab": {
      "name": "Merged after closed.ipynb",
      "provenance": []
    },
    "kernelspec": {
      "name": "python3",
      "display_name": "Python 3"
    }
  },
  "cells": [
    {
      "cell_type": "code",
      "metadata": {
        "id": "ks7HCGB6q0aS",
        "colab_type": "code",
        "outputId": "92a16418-9c8a-45e7-fd3e-9ca8b493a9e5",
        "colab": {
          "base_uri": "https://localhost:8080/",
          "height": 170
        }
      },
      "source": [
        "!pip install PyGithub"
      ],
      "execution_count": 0,
      "outputs": [
        {
          "output_type": "stream",
          "text": [
            "Requirement already satisfied: PyGithub in /usr/local/lib/python3.6/dist-packages (1.51)\n",
            "Requirement already satisfied: requests>=2.14.0 in /usr/local/lib/python3.6/dist-packages (from PyGithub) (2.23.0)\n",
            "Requirement already satisfied: pyjwt in /usr/local/lib/python3.6/dist-packages (from PyGithub) (1.7.1)\n",
            "Requirement already satisfied: deprecated in /usr/local/lib/python3.6/dist-packages (from PyGithub) (1.2.9)\n",
            "Requirement already satisfied: urllib3!=1.25.0,!=1.25.1,<1.26,>=1.21.1 in /usr/local/lib/python3.6/dist-packages (from requests>=2.14.0->PyGithub) (1.24.3)\n",
            "Requirement already satisfied: chardet<4,>=3.0.2 in /usr/local/lib/python3.6/dist-packages (from requests>=2.14.0->PyGithub) (3.0.4)\n",
            "Requirement already satisfied: idna<3,>=2.5 in /usr/local/lib/python3.6/dist-packages (from requests>=2.14.0->PyGithub) (2.9)\n",
            "Requirement already satisfied: certifi>=2017.4.17 in /usr/local/lib/python3.6/dist-packages (from requests>=2.14.0->PyGithub) (2020.4.5.1)\n",
            "Requirement already satisfied: wrapt<2,>=1.10 in /usr/local/lib/python3.6/dist-packages (from deprecated->PyGithub) (1.12.1)\n"
          ],
          "name": "stdout"
        }
      ]
    },
    {
      "cell_type": "code",
      "metadata": {
        "id": "ZxYr_ehNq9NP",
        "colab_type": "code",
        "colab": {}
      },
      "source": [
        "import pandas as pd\n",
        "import numpy as np\n",
        "import calendar\n",
        "import time\n",
        "import sys\n",
        "from github import Github\n",
        "from tqdm import tqdm\n",
        "import matplotlib.pyplot as plt"
      ],
      "execution_count": 0,
      "outputs": []
    },
    {
      "cell_type": "code",
      "metadata": {
        "id": "oFFqo02sbmK1",
        "colab_type": "code",
        "colab": {}
      },
      "source": [
        "def checkAndWait(github_yd):\n",
        "  if github_yd.rate_limiting[0] <= 5:\n",
        "    core_rate_limit = github_yd.get_rate_limit().core\n",
        "    reset_timestamp = calendar.timegm(core_rate_limit.reset.timetuple())\n",
        "    sleep_time = reset_timestamp - calendar.timegm(time.gmtime()) + 5  # add 5 seconds to be sure the rate limit has been reset\n",
        "    for remaining in range(sleep_time, 0, -1):\n",
        "      sys.stdout.write(\"\\r\")\n",
        "      sys.stdout.write(\"{:2d} seconds remaining.\".format(remaining))\n",
        "      sys.stdout.flush()\n",
        "      time.sleep(1)\n",
        "    sys.stdout.write(\"\\rAPI limit refreshed!            \\n\")"
      ],
      "execution_count": 0,
      "outputs": []
    },
    {
      "cell_type": "code",
      "metadata": {
        "id": "Vyr5TbaVq-mz",
        "colab_type": "code",
        "colab": {}
      },
      "source": [
        "yd_token = 'cf2fec994c72360455f2a71acdb790ddd6b07049'\n",
        "github_yd = Github(yd_token)\n",
        "checkAndWait(github_yd)\n",
        "repo = github_yd.get_repo('twbs/bootstrap')\n",
        "issues = repo.get_issues(state = 'closed')"
      ],
      "execution_count": 0,
      "outputs": []
    },
    {
      "cell_type": "code",
      "metadata": {
        "id": "xMXEy0rRrS3A",
        "colab_type": "code",
        "outputId": "67cffa96-749e-4e24-ea38-a8fe370249de",
        "colab": {
          "base_uri": "https://localhost:8080/",
          "height": 51
        }
      },
      "source": [
        "events_list = []\n",
        "for issue in tqdm(issues):\n",
        "  events_list.append(issue.get_events())\n",
        "  checkAndWait(github_yd)\n",
        "print(len(events_list))"
      ],
      "execution_count": 0,
      "outputs": [
        {
          "output_type": "stream",
          "text": [
            "29757it [08:47, 56.36it/s]"
          ],
          "name": "stderr"
        },
        {
          "output_type": "stream",
          "text": [
            "29757\n"
          ],
          "name": "stdout"
        },
        {
          "output_type": "stream",
          "text": [
            "\n"
          ],
          "name": "stderr"
        }
      ]
    },
    {
      "cell_type": "code",
      "metadata": {
        "id": "KDC9OSECvbwI",
        "colab_type": "code",
        "outputId": "6d80a0f2-c9e0-4db1-8980-57977b01f870",
        "colab": {
          "base_uri": "https://localhost:8080/",
          "height": 374
        }
      },
      "source": [
        "smell_count = 0\n",
        "for events in tqdm(events_list):\n",
        "  closed = False\n",
        "  for event in events:\n",
        "    checkAndWait(github_yd)\n",
        "    if event.event == \"closed\":\n",
        "      closed = True\n",
        "    elif event.event == \"reopened\":\n",
        "      closed = False\n",
        "    elif closed and event.event == \"merged\":\n",
        "      smell_count += 1\n",
        "      break\n",
        "print(smell_count)"
      ],
      "execution_count": 6,
      "outputs": [
        {
          "output_type": "stream",
          "text": [
            "  9%|▉         | 2677/29757 [05:53<1:08:47,  6.56it/s]"
          ],
          "name": "stderr"
        },
        {
          "output_type": "stream",
          "text": [
            "API limit refreshed!            \n",
            "API limit refreshed!            \n",
            "API limit refreshed!            \n",
            " 1 seconds remaining."
          ],
          "name": "stdout"
        },
        {
          "output_type": "stream",
          "text": [
            "  9%|▉         | 2679/29757 [42:05<3431:17:39, 456.19s/it]"
          ],
          "name": "stderr"
        },
        {
          "output_type": "stream",
          "text": [
            "\rAPI limit refreshed!            \n"
          ],
          "name": "stdout"
        },
        {
          "output_type": "stream",
          "text": [
            " 25%|██▌       | 7560/29757 [52:39<46:32,  7.95it/s]"
          ],
          "name": "stderr"
        },
        {
          "output_type": "stream",
          "text": [
            "API limit refreshed!            \n",
            "API limit refreshed!            \n",
            "API limit refreshed!            \n",
            "API limit refreshed!            \n",
            " 1 seconds remaining."
          ],
          "name": "stdout"
        },
        {
          "output_type": "stream",
          "text": [
            " 25%|██▌       | 7563/29757 [1:42:36<1940:58:09, 314.84s/it]"
          ],
          "name": "stderr"
        },
        {
          "output_type": "stream",
          "text": [
            "\rAPI limit refreshed!            \n"
          ],
          "name": "stdout"
        },
        {
          "output_type": "stream",
          "text": [
            " 42%|████▏     | 12491/29757 [1:53:20<40:21,  7.13it/s]"
          ],
          "name": "stderr"
        },
        {
          "output_type": "stream",
          "text": [
            "API limit refreshed!            \n",
            "API limit refreshed!            \n",
            "API limit refreshed!            \n",
            "API limit refreshed!            \n",
            " 1 seconds remaining."
          ],
          "name": "stdout"
        },
        {
          "output_type": "stream",
          "text": [
            " 42%|████▏     | 12493/29757 [3:43:15<6641:51:47, 1385.00s/it]"
          ],
          "name": "stderr"
        },
        {
          "output_type": "stream",
          "text": [
            "\rAPI limit refreshed!            \n"
          ],
          "name": "stdout"
        },
        {
          "output_type": "stream",
          "text": [
            " 58%|█████▊    | 17389/29757 [3:54:14<27:58,  7.37it/s]"
          ],
          "name": "stderr"
        },
        {
          "output_type": "stream",
          "text": [
            " 1 seconds remaining."
          ],
          "name": "stdout"
        },
        {
          "output_type": "stream",
          "text": [
            " 58%|█████▊    | 17392/29757 [4:43:26<1064:42:12, 309.98s/it]"
          ],
          "name": "stderr"
        },
        {
          "output_type": "stream",
          "text": [
            "\rAPI limit refreshed!            \n"
          ],
          "name": "stdout"
        },
        {
          "output_type": "stream",
          "text": [
            " 75%|███████▌  | 22343/29757 [4:53:18<14:07,  8.74it/s]"
          ],
          "name": "stderr"
        },
        {
          "output_type": "stream",
          "text": [
            " 1 seconds remaining."
          ],
          "name": "stdout"
        },
        {
          "output_type": "stream",
          "text": [
            " 75%|███████▌  | 22345/29757 [5:43:37<1305:34:44, 634.12s/it]"
          ],
          "name": "stderr"
        },
        {
          "output_type": "stream",
          "text": [
            "\rAPI limit refreshed!            \n"
          ],
          "name": "stdout"
        },
        {
          "output_type": "stream",
          "text": [
            " 92%|█████████▏| 27247/29757 [5:53:10<05:14,  7.98it/s]"
          ],
          "name": "stderr"
        },
        {
          "output_type": "stream",
          "text": [
            "API limit refreshed!            \n",
            "API limit refreshed!            \n",
            " 1 seconds remaining."
          ],
          "name": "stdout"
        },
        {
          "output_type": "stream",
          "text": [
            " 92%|█████████▏| 27249/29757 [6:43:58<445:53:50, 640.04s/it]"
          ],
          "name": "stderr"
        },
        {
          "output_type": "stream",
          "text": [
            "\rAPI limit refreshed!            \n"
          ],
          "name": "stdout"
        },
        {
          "output_type": "stream",
          "text": [
            "100%|██████████| 29757/29757 [6:49:56<00:00,  1.21it/s]"
          ],
          "name": "stderr"
        },
        {
          "output_type": "stream",
          "text": [
            "14\n"
          ],
          "name": "stdout"
        },
        {
          "output_type": "stream",
          "text": [
            "\n"
          ],
          "name": "stderr"
        }
      ]
    },
    {
      "cell_type": "code",
      "metadata": {
        "id": "E1rw8QRP-cdy",
        "colab_type": "code",
        "colab": {
          "base_uri": "https://localhost:8080/",
          "height": 609
        },
        "outputId": "647bcb88-1e62-48f2-d181-2a4b07486874"
      },
      "source": [
        "smell_percentage = 100 * (smell_count / len(events_list))\n",
        "data = [smell_percentage, 100 - smell_percentage]\n",
        "label = ['Smell', 'Proper']\n",
        "fig, (ax1, ax2) = plt.subplots(1, 2, figsize = (10,10))\n",
        "ax1.pie(data, labels = label, autopct = '%1.2f%%')\n",
        "ax1.legend()\n",
        "ax2.bar(label, [smell_count, len(events_list) - smell_count])"
      ],
      "execution_count": 7,
      "outputs": [
        {
          "output_type": "execute_result",
          "data": {
            "text/plain": [
              "<BarContainer object of 2 artists>"
            ]
          },
          "metadata": {
            "tags": []
          },
          "execution_count": 7
        },
        {
          "output_type": "display_data",
          "data": {
            "image/png": "[encoded data removed]",
            "text/plain": [
              "<Figure size 720x720 with 2 Axes>"
            ]
          },
          "metadata": {
            "tags": [],
            "needs_background": "light"
          }
        }
      ]
    }
  ]
}