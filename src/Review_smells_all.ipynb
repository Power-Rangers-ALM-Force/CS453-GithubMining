{
  "nbformat": 4,
  "nbformat_minor": 0,
  "metadata": {
    "colab": {
      "name": "Review_smells.ipynb",
      "provenance": [],
      "collapsed_sections": []
    },
    "kernelspec": {
      "name": "python3",
      "display_name": "Python 3"
    }
  },
  "cells": [
    {
      "cell_type": "code",
      "metadata": {
        "id": "KSFMvp9JVXdR",
        "colab_type": "code",
        "outputId": "41c7f904-11eb-41e4-f8ae-d754d8d8f603",
        "colab": {
          "base_uri": "https://localhost:8080/",
          "height": 187
        }
      },
      "source": [
        "!pip install PyGithub\n",
        "!pip install tqdm"
      ],
      "execution_count": 1,
      "outputs": [
        {
          "output_type": "stream",
          "text": [
            "Requirement already satisfied: PyGithub in /usr/local/lib/python3.6/dist-packages (1.51)\n",
            "Requirement already satisfied: requests>=2.14.0 in /usr/local/lib/python3.6/dist-packages (from PyGithub) (2.23.0)\n",
            "Requirement already satisfied: pyjwt in /usr/local/lib/python3.6/dist-packages (from PyGithub) (1.7.1)\n",
            "Requirement already satisfied: deprecated in /usr/local/lib/python3.6/dist-packages (from PyGithub) (1.2.9)\n",
            "Requirement already satisfied: idna<3,>=2.5 in /usr/local/lib/python3.6/dist-packages (from requests>=2.14.0->PyGithub) (2.9)\n",
            "Requirement already satisfied: certifi>=2017.4.17 in /usr/local/lib/python3.6/dist-packages (from requests>=2.14.0->PyGithub) (2020.4.5.1)\n",
            "Requirement already satisfied: urllib3!=1.25.0,!=1.25.1,<1.26,>=1.21.1 in /usr/local/lib/python3.6/dist-packages (from requests>=2.14.0->PyGithub) (1.24.3)\n",
            "Requirement already satisfied: chardet<4,>=3.0.2 in /usr/local/lib/python3.6/dist-packages (from requests>=2.14.0->PyGithub) (3.0.4)\n",
            "Requirement already satisfied: wrapt<2,>=1.10 in /usr/local/lib/python3.6/dist-packages (from deprecated->PyGithub) (1.12.1)\n",
            "Requirement already satisfied: tqdm in /usr/local/lib/python3.6/dist-packages (4.41.1)\n"
          ],
          "name": "stdout"
        }
      ]
    },
    {
      "cell_type": "code",
      "metadata": {
        "id": "KwuabVQ3WCnl",
        "colab_type": "code",
        "colab": {}
      },
      "source": [
        "import pandas as pd\n",
        "import numpy as np\n",
        "import calendar\n",
        "import time\n",
        "import sys\n",
        "from github import Github\n",
        "from tqdm import tqdm"
      ],
      "execution_count": 0,
      "outputs": []
    },
    {
      "cell_type": "code",
      "metadata": {
        "id": "gFEkyADfqZY6",
        "colab_type": "code",
        "colab": {}
      },
      "source": [
        "def checkAndWait(github_yd):\n",
        "  if github_yd.rate_limiting[0] <= 5:\n",
        "    core_rate_limit = github_yd.get_rate_limit().core\n",
        "    reset_timestamp = calendar.timegm(core_rate_limit.reset.timetuple())\n",
        "    sleep_time = reset_timestamp - calendar.timegm(time.gmtime()) + 5  # add 5 seconds to be sure the rate limit has been reset\n",
        "    for remaining in range(sleep_time, 0, -1):\n",
        "      sys.stdout.write(\"\\r\")\n",
        "      sys.stdout.write(\"{:2d} seconds remaining.\".format(remaining))\n",
        "      sys.stdout.flush()\n",
        "      time.sleep(1)\n",
        "    sys.stdout.write(\"\\rComplete!            \\n\")"
      ],
      "execution_count": 0,
      "outputs": []
    },
    {
      "cell_type": "code",
      "metadata": {
        "id": "2uZ8FEO8WfpH",
        "colab_type": "code",
        "outputId": "766741fe-6a58-46d7-84dc-0a02f1479de2",
        "colab": {
          "base_uri": "https://localhost:8080/",
          "height": 34
        }
      },
      "source": [
        "yd_token = '0963c426192d20332b8b090af136bc06d6791ee8'\n",
        "github_yd = Github(yd_token)\n",
        "checkAndWait(github_yd)\n",
        "repo = github_yd.get_repo('twbs/bootstrap')\n",
        "pull_requests = repo.get_pulls(state = 'closed')\n",
        "\n",
        "print(pull_requests.totalCount)"
      ],
      "execution_count": 4,
      "outputs": [
        {
          "output_type": "stream",
          "text": [
            "10825\n"
          ],
          "name": "stdout"
        }
      ]
    },
    {
      "cell_type": "code",
      "metadata": {
        "id": "iHpOLEs7eSaX",
        "colab_type": "code",
        "outputId": "f7964ca7-39ad-4cae-bda1-5db87cf3ebd4",
        "colab": {
          "base_uri": "https://localhost:8080/",
          "height": 85
        }
      },
      "source": [
        "merged_requests = []\n",
        "for pull_request in tqdm(pull_requests):\n",
        "    if pull_request.merged:\n",
        "        merged_requests.append(pull_request)\n",
        "    checkAndWait(github_yd)\n",
        "print(len(merged_requests))"
      ],
      "execution_count": 5,
      "outputs": [
        {
          "output_type": "stream",
          "text": [
            "4827it [34:24,  2.93it/s]"
          ],
          "name": "stderr"
        },
        {
          "output_type": "stream",
          "text": [
            " 1 seconds remaining."
          ],
          "name": "stdout"
        },
        {
          "output_type": "stream",
          "text": [
            "\r4828it [53:06, 336.68s/it]"
          ],
          "name": "stderr"
        },
        {
          "output_type": "stream",
          "text": [
            "\rComplete!            \n"
          ],
          "name": "stdout"
        },
        {
          "output_type": "stream",
          "text": [
            "9655it [1:28:50,  2.77it/s]"
          ],
          "name": "stderr"
        },
        {
          "output_type": "stream",
          "text": [
            " 1 seconds remaining."
          ],
          "name": "stdout"
        },
        {
          "output_type": "stream",
          "text": [
            "\r9656it [1:53:14, 439.52s/it]"
          ],
          "name": "stderr"
        },
        {
          "output_type": "stream",
          "text": [
            "\rComplete!            \n"
          ],
          "name": "stdout"
        },
        {
          "output_type": "stream",
          "text": [
            "10825it [2:01:26,  1.49it/s]"
          ],
          "name": "stderr"
        },
        {
          "output_type": "stream",
          "text": [
            "5719\n"
          ],
          "name": "stdout"
        },
        {
          "output_type": "stream",
          "text": [
            "\n"
          ],
          "name": "stderr"
        }
      ]
    },
    {
      "cell_type": "code",
      "metadata": {
        "id": "JpfPaNe2kSey",
        "colab_type": "code",
        "colab": {}
      },
      "source": [
        "reviews = []\n",
        "for merged_request in merged_requests:\n",
        "  reviews.append(merged_request.get_reviews())\n",
        "  checkAndWait(github_yd)"
      ],
      "execution_count": 0,
      "outputs": []
    },
    {
      "cell_type": "code",
      "metadata": {
        "id": "QwatYcpyfUZO",
        "colab_type": "code",
        "outputId": "95696dd9-951c-430d-d5d1-6eff7ccd8f0b",
        "colab": {
          "base_uri": "https://localhost:8080/",
          "height": 51
        }
      },
      "source": [
        "smell_count = 0\n",
        "for review in reviews:\n",
        "  for single_review in review:\n",
        "    if single_review.state != \"APPROVE\":\n",
        "      smell_count += 1\n",
        "      break\n",
        "    checkAndWait(github_yd)\n",
        "  checkAndWait(github_yd)\n",
        "print(smell_count)"
      ],
      "execution_count": 7,
      "outputs": [
        {
          "output_type": "stream",
          "text": [
            "Complete!            \n",
            "2300\n"
          ],
          "name": "stdout"
        }
      ]
    },
    {
      "cell_type": "code",
      "metadata": {
        "id": "kE15CEjAm_1C",
        "colab_type": "code",
        "outputId": "3828ff15-ec94-489c-e1a7-32b511a3da14",
        "colab": {
          "base_uri": "https://localhost:8080/",
          "height": 609
        }
      },
      "source": [
        "import matplotlib.pyplot as plt\n",
        "smell_percentage = 100 * (smell_count / len(merged_requests))\n",
        "data = [smell_percentage, 100 - smell_percentage]\n",
        "label = ['Smell', 'Proper']\n",
        "fig, (ax1, ax2) = plt.subplots(1, 2, figsize = (10,10))\n",
        "ax1.pie(data, labels = label, autopct = '%1.2f%%')\n",
        "ax1.legend()\n",
        "ax2.bar(label, [smell_count, len(merged_requests) - smell_count])"
      ],
      "execution_count": 8,
      "outputs": [
        {
          "output_type": "execute_result",
          "data": {
            "text/plain": [
              "<BarContainer object of 2 artists>"
            ]
          },
          "metadata": {
            "tags": []
          },
          "execution_count": 8
        },
        {
          "output_type": "display_data",
          "data": {
            "image/png": "[encoded data removed]",
            "text/plain": [
              "<Figure size 720x720 with 2 Axes>"
            ]
          },
          "metadata": {
            "tags": [],
            "needs_background": "light"
          }
        }
      ]
    }
  ]
}