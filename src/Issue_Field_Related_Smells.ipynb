{
 "cells": [
  {
   "cell_type": "code",
   "execution_count": 1,
   "metadata": {
    "colab": {
     "base_uri": "https://localhost:8080/",
     "height": 272
    },
    "colab_type": "code",
    "id": "wz3Xd4u6a6cI",
    "outputId": "72173e20-dfb0-482b-9d5f-c3769211de11"
   },
   "outputs": [
    {
     "name": "stdout",
     "output_type": "stream",
     "text": [
      "Requirement already satisfied: PyGithub in /opt/anaconda3/lib/python3.7/site-packages (1.51)\n",
      "Requirement already satisfied: requests>=2.14.0 in /opt/anaconda3/lib/python3.7/site-packages (from PyGithub) (2.22.0)\n",
      "Requirement already satisfied: pyjwt in /opt/anaconda3/lib/python3.7/site-packages (from PyGithub) (1.7.1)\n",
      "Requirement already satisfied: deprecated in /opt/anaconda3/lib/python3.7/site-packages (from PyGithub) (1.2.9)\n",
      "Requirement already satisfied: chardet<3.1.0,>=3.0.2 in /opt/anaconda3/lib/python3.7/site-packages (from requests>=2.14.0->PyGithub) (3.0.4)\n",
      "Requirement already satisfied: idna<2.9,>=2.5 in /opt/anaconda3/lib/python3.7/site-packages (from requests>=2.14.0->PyGithub) (2.8)\n",
      "Requirement already satisfied: urllib3!=1.25.0,!=1.25.1,<1.26,>=1.21.1 in /opt/anaconda3/lib/python3.7/site-packages (from requests>=2.14.0->PyGithub) (1.25.8)\n",
      "Requirement already satisfied: certifi>=2017.4.17 in /opt/anaconda3/lib/python3.7/site-packages (from requests>=2.14.0->PyGithub) (2019.11.28)\n",
      "Requirement already satisfied: wrapt<2,>=1.10 in /opt/anaconda3/lib/python3.7/site-packages (from deprecated->PyGithub) (1.11.2)\n"
     ]
    }
   ],
   "source": [
    "!pip install PyGithub\n",
    "from github import Github\n",
    "import pandas as pd\n",
    "import numpy as np"
   ]
  },
  {
   "cell_type": "code",
   "execution_count": 2,
   "metadata": {
    "colab": {},
    "colab_type": "code",
    "id": "Y5t2Lj06a6cP"
   },
   "outputs": [],
   "source": [
    "gthub = Github('*** add token here ***')\n",
    "repo = gthub.get_repo('twbs/bootstrap')\n",
    "issues = repo.get_issues(state = 'all')"
   ]
  },
  {
   "cell_type": "code",
   "execution_count": 3,
   "metadata": {
    "colab": {
     "base_uri": "https://localhost:8080/",
     "height": 34
    },
    "colab_type": "code",
    "id": "8Pxo4Un8a6cT",
    "outputId": "f0568132-c3a1-4afa-f195-83f0b85b75b0"
   },
   "outputs": [
    {
     "data": {
      "text/plain": [
       "30155"
      ]
     },
     "execution_count": 3,
     "metadata": {},
     "output_type": "execute_result"
    }
   ],
   "source": [
    "issues.totalCount"
   ]
  },
  {
   "cell_type": "markdown",
   "metadata": {
    "colab_type": "text",
    "id": "bxarcY-Da6cX"
   },
   "source": [
    "# Analysis\n",
    "For this part, the quantitative analysis for the missing fields will be conducted. In this regard, all of the attributes of a commit will be analyzed. The attributes that will be analyzed are as follows:\n",
    "- Assignee\n",
    "- Labels\n",
    "- Projects\n",
    "- Milestone \n",
    "- Linked Pull Requests\n",
    "- Issue Body\n",
    "---\n",
    "To find the problematic issues in the repository, the events fired by the issues are used. When each of the fields are being filled, an event is fired. According to the labels of these events the problem in that particular issue has been identified. The corresponding event labels are shown in the cell below."
   ]
  },
  {
   "cell_type": "code",
   "execution_count": 4,
   "metadata": {
    "colab": {},
    "colab_type": "code",
    "id": "EN5e-wmqa6cY"
   },
   "outputs": [],
   "source": [
    "events = ('added_to_project', 'assigned', 'labeled', 'milestoned', 'review_requested') "
   ]
  },
  {
   "cell_type": "code",
   "execution_count": 5,
   "metadata": {
    "colab": {
     "base_uri": "https://localhost:8080/",
     "height": 34
    },
    "colab_type": "code",
    "id": "SztddTOUa6ca",
    "outputId": "3bb524d8-a3ed-4d9f-df80-a65636e6b59e"
   },
   "outputs": [
    {
     "data": {
      "text/plain": [
       "4998"
      ]
     },
     "execution_count": 5,
     "metadata": {},
     "output_type": "execute_result"
    }
   ],
   "source": [
    "gthub.get_rate_limit().core.remaining"
   ]
  },
  {
   "cell_type": "markdown",
   "metadata": {},
   "source": [
    "In order to manage with the rate limiting of Github API, we implemented a conditional wait structure. By this way, we attempted to send our requests with the least amount of requests."
   ]
  },
  {
   "cell_type": "code",
   "execution_count": 6,
   "metadata": {
    "colab": {},
    "colab_type": "code",
    "id": "UiyoMB_geK35"
   },
   "outputs": [],
   "source": [
    "import time\n",
    "import calendar\n",
    "from tqdm import tqdm\n",
    "def checkAndWait(github_yd):\n",
    "    if github_yd.rate_limiting[0] <= 5:\n",
    "        core_rate_limit = github_yd.get_rate_limit().core\n",
    "        reset_timestamp = calendar.timegm(core_rate_limit.reset.timetuple())\n",
    "        sleep_time = reset_timestamp - calendar.timegm(time.gmtime()) + 5  # add 5 seconds to be sure the rate limit has been reset\n",
    "        for remaining in range(sleep_time, 0, -1):\n",
    "            time.sleep(1)"
   ]
  },
  {
   "cell_type": "markdown",
   "metadata": {},
   "source": [
    "### Counting the smells\n",
    "For the counting operation of the smells, we foloowed a map like approach. As it can be seen in the next cell, there is a counter for both the issues with any problem and one for the specific problems. We looked at the events for each of the issues, and then looked for the event labels given above. The algorithm applies a conditional wait stucture, which makes the runtime efficient. However, this repository involves 30155 issues in total, which makes the runtime extremely long"
   ]
  },
  {
   "cell_type": "code",
   "execution_count": null,
   "metadata": {
    "colab": {
     "base_uri": "https://localhost:8080/",
     "height": 442
    },
    "colab_type": "code",
    "id": "wkbjNnqia6cc",
    "outputId": "e99bd0fa-9764-44b4-e12c-34c1fd7c5baa"
   },
   "outputs": [],
   "source": [
    "problematic_issues = 0\n",
    "problems = np.zeros(6)\n",
    "count = 1\n",
    "for issue_idx in tqdm(range(issues.totalCount)):\n",
    "    checkAndWait(gthub)\n",
    "    issue = issues[issue_idx]\n",
    "    issue_events = issue.get_events()\n",
    "    count += 1\n",
    "    smell = [True, True, True, True, True, True]\n",
    "    for event_idx in range(issue_events.totalCount):\n",
    "        checkAndWait(gthub)\n",
    "        event = issue_events[event_idx]\n",
    "        for label_idx in range(len(events)):\n",
    "            if event.event == events[label_idx]:\n",
    "                smell[label_idx] = False\n",
    "    if issue.body != None:\n",
    "        smell[5] = False\n",
    "    for x in smell:\n",
    "        if x == True:\n",
    "            problematic_issues += 1\n",
    "            break\n",
    "    for x_idx in range(len(smell)):\n",
    "        if smell[x_idx] == True:\n",
    "            problems[x_idx] += 1"
   ]
  },
  {
   "cell_type": "markdown",
   "metadata": {},
   "source": [
    "## Evaluation\n",
    "After getting our results, we found out that every issue in twbs/bootstrap has some problem with some aspect. The illustration of this fact and the distribution of the problems are shown as plots in the next two cells."
   ]
  },
  {
   "cell_type": "code",
   "execution_count": 12,
   "metadata": {
    "colab": {
     "base_uri": "https://localhost:8080/",
     "height": 232
    },
    "colab_type": "code",
    "id": "M3iIb0Cva6ce",
    "outputId": "53bc46fc-d02e-4b73-ac57-ad9c1098f7ae"
   },
   "outputs": [
    {
     "name": "stdout",
     "output_type": "stream",
     "text": [
      "Issues: 30155, Issues with some problem: 30155\n"
     ]
    },
    {
     "data": {
      "text/plain": [
       "<matplotlib.legend.Legend at 0x13d2ed590>"
      ]
     },
     "execution_count": 12,
     "metadata": {},
     "output_type": "execute_result"
    },
    {
     "data": {
      "image/png": "[encoded data removed]",
      "text/plain": [
       "<Figure size 432x432 with 1 Axes>"
      ]
     },
     "metadata": {},
     "output_type": "display_data"
    }
   ],
   "source": [
    "import matplotlib.pyplot as plt\n",
    "%matplotlib inline\n",
    "lb1 = ['Ideal', 'Not ideal']\n",
    "print('Issues: ' + str(issues.totalCount) + ', Issues with some problem: ' + str(problematic_issues))\n",
    "fig, ax = plt.subplots(figsize = (6,6))\n",
    "ax.pie((issues.totalCount - problematic_issues , problematic_issues), labels = lb1)\n",
    "ax.legend()"
   ]
  },
  {
   "cell_type": "code",
   "execution_count": 13,
   "metadata": {
    "colab": {
     "base_uri": "https://localhost:8080/",
     "height": 374
    },
    "colab_type": "code",
    "id": "jpzoYoV3a6cg",
    "outputId": "e4d3904e-e33e-4769-ba66-5a59d50b7b6c"
   },
   "outputs": [
    {
     "data": {
      "image/png": "[encoded data removed]",
      "text/plain": [
       "<Figure size 1080x432 with 1 Axes>"
      ]
     },
     "metadata": {
      "needs_background": "light"
     },
     "output_type": "display_data"
    }
   ],
   "source": [
    "labels = ['No Project', 'No Assignee', 'No Label', 'No Milestone', 'No Reviewer', 'No Body']\n",
    "fig,ax = plt.subplots(figsize = (15,6))\n",
    "ax.bar(labels, problems)\n",
    "for x_idx in range(problems.size):\n",
    "    ax.text(labels[x_idx], problems[x_idx], int(problems[x_idx]), fontdict = {'family': 'sans-serif',\n",
    "        'color':  'blue',\n",
    "        'weight': 'heavy',\n",
    "        'size': 12,\n",
    "        }, ha = 'center')"
   ]
  }
 ],
 "metadata": {
  "colab": {
   "name": "Issue Field Related Smells.ipynb",
   "provenance": []
  },
  "kernelspec": {
   "display_name": "Python 3",
   "language": "python",
   "name": "python3"
  },
  "language_info": {
   "codemirror_mode": {
    "name": "ipython",
    "version": 3
   },
   "file_extension": ".py",
   "mimetype": "text/x-python",
   "name": "python",
   "nbconvert_exporter": "python",
   "pygments_lexer": "ipython3",
   "version": "3.7.6"
  }
 },
 "nbformat": 4,
 "nbformat_minor": 1
}
